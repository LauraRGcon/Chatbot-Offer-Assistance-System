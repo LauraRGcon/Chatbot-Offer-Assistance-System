{
 "cells": [
  {
   "cell_type": "markdown",
   "id": "5bce7b64-cc22-44d8-b263-95ca43337da6",
   "metadata": {
    "tags": []
   },
   "source": [
    "# 1 Librerías y plantillas"
   ]
  },
  {
   "cell_type": "code",
   "execution_count": 3,
   "id": "bf40705f-0fcf-4bd8-8249-ff9a5115a461",
   "metadata": {},
   "outputs": [],
   "source": [
    "import pandas as pd\n",
    "import random\n",
    "from datetime import datetime\n",
    "import json\n",
    "import pickle\n",
    "import re\n",
    "import os\n",
    "import sys\n",
    "\n",
    "# Obtén la ruta del directorio raíz del proyecto\n",
    "proyecto_path = os.path.abspath(os.path.join(os.getcwd(), \"..\"))\n",
    "\n",
    "# Agrega el directorio raíz al sys.path\n",
    "sys.path.append(proyecto_path)\n",
    "\n",
    "# Ahora puedes importar utilidades.py desde utils\n",
    "import Utils.sentences as sentences"
   ]
  },
  {
   "cell_type": "code",
   "execution_count": 4,
   "id": "dab1480c",
   "metadata": {
    "tags": []
   },
   "outputs": [
    {
     "name": "stdout",
     "output_type": "stream",
     "text": [
      "233 examples of range sentences\n"
     ]
    }
   ],
   "source": [
    "## check templates:\n",
    "print(len(set(sentences.template_sentences)),'examples of range sentences')"
   ]
  },
  {
   "cell_type": "markdown",
   "id": "1055da49-04ed-41f5-be5a-6c42b942af49",
   "metadata": {},
   "source": [
    "# 2 Creación de rangos de variables"
   ]
  },
  {
   "cell_type": "code",
   "execution_count": 3,
   "id": "5ee7fe85",
   "metadata": {
    "tags": []
   },
   "outputs": [],
   "source": [
    "adults = range(1, 15)\n",
    "children = range(1, 10)\n",
    "days = range(1, 31)\n",
    "months = [datetime(2000, month, 1).strftime('%B') for month in range(1, 13)]\n",
    "year = datetime.now().year\n",
    "\n",
    "special_dates_dictionary = {\n",
    "    'summer': 1,\n",
    "    'Christmas': datetime(year, 12, 25),\n",
    "    'Boxing Day': datetime(year, 12, 26),\n",
    "    'New Year': datetime(year+1, 1, 1),\n",
    "    'Halloween': datetime(year, 10, 31),\n",
    "    'Valentine': datetime(year+1, 2, 14)\n",
    "}\n",
    "special_dates=list(special_dates_dictionary.keys())"
   ]
  },
  {
   "cell_type": "markdown",
   "id": "c0dfa8ee-40d6-48ad-8e98-787a741a42e6",
   "metadata": {},
   "source": [
    "# 3 Creación funciones de generación de registros y etiquetas"
   ]
  },
  {
   "cell_type": "code",
   "execution_count": 46,
   "id": "ad21312e",
   "metadata": {
    "tags": []
   },
   "outputs": [],
   "source": [
    "def create_labels_NER(text):\n",
    "    # Inicializar una lista de etiquetas como 'O' (Outside)\n",
    "    labels = ['O'] * len(text.split())\n",
    "    \n",
    "    # Buscar y etiquetar las entidades\n",
    "    for match in re.finditer(r'{(.*?)}', text):\n",
    "        entity_type = match.group(1)\n",
    "        start, end = match.span()\n",
    "        start_word_index = len(text[:start].split())\n",
    "        end_word_index = len(text[:end].split()) - 1\n",
    "        \n",
    "        # Usar la notación BIO\n",
    "        if start_word_index == end_word_index:\n",
    "            labels[start_word_index] = f'B-{entity_type.upper()}'\n",
    "        else:\n",
    "            labels[start_word_index] = f'B-{entity_type.upper()}'\n",
    "            for i in range(start_word_index + 1, end_word_index):\n",
    "                labels[i] = f'I-{entity_type.upper()}'\n",
    "    \n",
    "    return ' '.join(labels)\n",
    "\n",
    "def create_samples(template_list, num):\n",
    "    data=[]\n",
    "    for _ in range(num):  \n",
    "        sentence_template = random.choice(template_list)\n",
    "        num_adults = random.choice(adults)\n",
    "        num_children = random.choice(children)\n",
    "        special_date = random.choice(special_dates)\n",
    "        num_days = random.choice(days)\n",
    "        chosen_month = random.choice(months)\n",
    "\n",
    "        example = sentence_template.format(\n",
    "            adults=num_adults,\n",
    "            children=num_children,\n",
    "            days=num_days,\n",
    "            month=chosen_month,\n",
    "            special_date=special_date)\n",
    "        \n",
    "        # Enfoque red neuronal\n",
    "        num_adults= num_adults if \"{adults}\" in sentence_template else None\n",
    "        num_children= num_children if \"{children}\" in sentence_template else None\n",
    "        num_days= num_days if \"{days}\" in sentence_template else None\n",
    "        chosen_month= chosen_month if \"{month}\" in sentence_template else None\n",
    "        special_date= special_date if \"{special_date}\" in sentence_template else None\n",
    "        \n",
    "        entities = {\"adults\": num_adults, \n",
    "                    \"children\": num_children, \n",
    "                    \"days\": num_days, \n",
    "                    \"month\": chosen_month, \n",
    "                    \"special_date\": special_date}\n",
    "\n",
    "        # Enfoque Transformer - NER\n",
    "        entities_NER=create_labels_NER(sentence_template)\n",
    "        \n",
    "        data.append({\"text\": example, \"entities\": entities, \"label_NER\":entities_NER})\n",
    "    \n",
    "    return data"
   ]
  },
  {
   "cell_type": "markdown",
   "id": "c289271e-83c9-4096-9149-5c1f306f2f0b",
   "metadata": {},
   "source": [
    "# 4 Generación de dataset de entrenamiento"
   ]
  },
  {
   "cell_type": "code",
   "execution_count": 47,
   "id": "4afea6f1",
   "metadata": {
    "tags": []
   },
   "outputs": [],
   "source": [
    "etiquetas=create_samples(sentences.template_sentences, 5000000)"
   ]
  },
  {
   "cell_type": "code",
   "execution_count": 53,
   "id": "61eba09f-3a46-4efb-af67-cceeabd4128a",
   "metadata": {
    "tags": []
   },
   "outputs": [
    {
     "data": {
      "text/plain": [
       "[{'text': 'Can you provide room options for Valentine?',\n",
       "  'entities': {'adults': None,\n",
       "   'children': None,\n",
       "   'days': None,\n",
       "   'month': None,\n",
       "   'special_date': 'Valentine'},\n",
       "  'label_NER': 'O O O O O O B-SPECIAL_DATE'},\n",
       " {'text': 'I wish to make a reservation for 4 children.',\n",
       "  'entities': {'adults': None,\n",
       "   'children': 4,\n",
       "   'days': None,\n",
       "   'month': None,\n",
       "   'special_date': None},\n",
       "  'label_NER': 'O O O O O O O B-CHILDREN O'},\n",
       " {'text': 'Can I get a room for 7 adults for 1 days?',\n",
       "  'entities': {'adults': 7,\n",
       "   'children': None,\n",
       "   'days': 1,\n",
       "   'month': None,\n",
       "   'special_date': None},\n",
       "  'label_NER': 'O O O O O O B-ADULTS O O B-DAYS O'},\n",
       " {'text': 'I need a room for 9 children for 29 days.',\n",
       "  'entities': {'adults': None,\n",
       "   'children': 9,\n",
       "   'days': 29,\n",
       "   'month': None,\n",
       "   'special_date': None},\n",
       "  'label_NER': 'O O O O O B-CHILDREN O O B-DAYS O'},\n",
       " {'text': 'Can I get a booking for Halloween with 8 teenagers?',\n",
       "  'entities': {'adults': None,\n",
       "   'children': 8,\n",
       "   'days': None,\n",
       "   'month': None,\n",
       "   'special_date': 'Halloween'},\n",
       "  'label_NER': 'O O O O O O B-SPECIAL_DATE O B-CHILDREN O'}]"
      ]
     },
     "execution_count": 53,
     "metadata": {},
     "output_type": "execute_result"
    }
   ],
   "source": [
    "etiquetas[:5]"
   ]
  },
  {
   "cell_type": "markdown",
   "id": "fd2161b1-98c3-4f83-b1bc-c980c22bbf93",
   "metadata": {
    "tags": []
   },
   "source": [
    "## Eliminar registros repetidos:"
   ]
  },
  {
   "cell_type": "code",
   "execution_count": 54,
   "id": "9676323c",
   "metadata": {
    "tags": []
   },
   "outputs": [],
   "source": [
    "def delete_duplicates(df):\n",
    "    unicos_set = {json.dumps(d, sort_keys=True) for d in df}\n",
    "    return [json.loads(s) for s in unicos_set]"
   ]
  },
  {
   "cell_type": "code",
   "execution_count": 56,
   "id": "d2f6a010",
   "metadata": {
    "tags": []
   },
   "outputs": [
    {
     "name": "stdout",
     "output_type": "stream",
     "text": [
      "tamaño final del dataset de entrenamiento: 194828\n"
     ]
    }
   ],
   "source": [
    "etiquetas=delete_duplicates(etiquetas)\n",
    "\n",
    "print(f'tamaño final del dataset de entrenamiento: {len(etiquetas)}')"
   ]
  },
  {
   "cell_type": "markdown",
   "id": "806603c2-0a88-409e-b3f9-1c03c822d7ad",
   "metadata": {},
   "source": [
    "## Guardado de datos"
   ]
  },
  {
   "cell_type": "code",
   "execution_count": 58,
   "id": "63f61fb5-9782-49b7-b4e7-710705cf8630",
   "metadata": {
    "tags": []
   },
   "outputs": [],
   "source": [
    "data=pd.DataFrame(etiquetas)\n",
    "data=pd.concat([data.drop('entities',axis=1),pd.json_normalize(data['entities'])],axis=1)"
   ]
  },
  {
   "cell_type": "code",
   "execution_count": 62,
   "id": "62ac5088-6c7d-4317-ac9b-b7dc9dc5edad",
   "metadata": {
    "tags": []
   },
   "outputs": [
    {
     "data": {
      "text/html": [
       "<div>\n",
       "<style scoped>\n",
       "    .dataframe tbody tr th:only-of-type {\n",
       "        vertical-align: middle;\n",
       "    }\n",
       "\n",
       "    .dataframe tbody tr th {\n",
       "        vertical-align: top;\n",
       "    }\n",
       "\n",
       "    .dataframe thead th {\n",
       "        text-align: right;\n",
       "    }\n",
       "</style>\n",
       "<table border=\"1\" class=\"dataframe\">\n",
       "  <thead>\n",
       "    <tr style=\"text-align: right;\">\n",
       "      <th></th>\n",
       "      <th>label_NER</th>\n",
       "      <th>text</th>\n",
       "      <th>adults</th>\n",
       "      <th>children</th>\n",
       "      <th>days</th>\n",
       "      <th>month</th>\n",
       "      <th>special_date</th>\n",
       "    </tr>\n",
       "  </thead>\n",
       "  <tbody>\n",
       "    <tr>\n",
       "      <th>124835</th>\n",
       "      <td>O O O O O O B-ADULTS O O B-CHILDREN O O B-DAYS...</td>\n",
       "      <td>Could I reserve a room for 8 adults and 5 chil...</td>\n",
       "      <td>8.0</td>\n",
       "      <td>5.0</td>\n",
       "      <td>20.0</td>\n",
       "      <td>June</td>\n",
       "      <td>None</td>\n",
       "    </tr>\n",
       "    <tr>\n",
       "      <th>150675</th>\n",
       "      <td>O O O O O B-DAYS O O B-ADULTS O O B-MONTH</td>\n",
       "      <td>I need a room for 29 days for 1 adults in Febr...</td>\n",
       "      <td>1.0</td>\n",
       "      <td>NaN</td>\n",
       "      <td>29.0</td>\n",
       "      <td>February</td>\n",
       "      <td>None</td>\n",
       "    </tr>\n",
       "    <tr>\n",
       "      <th>183662</th>\n",
       "      <td>O O O O O O O B-ADULTS O O B-DAYS O O B-MONTH</td>\n",
       "      <td>I'd like to book a room for 1 adults for 6 day...</td>\n",
       "      <td>1.0</td>\n",
       "      <td>NaN</td>\n",
       "      <td>6.0</td>\n",
       "      <td>December</td>\n",
       "      <td>None</td>\n",
       "    </tr>\n",
       "    <tr>\n",
       "      <th>48193</th>\n",
       "      <td>O O O O O O O O B-ADULTS O O B-CHILDREN O O B-...</td>\n",
       "      <td>Is there any availability for a room for 1 adu...</td>\n",
       "      <td>1.0</td>\n",
       "      <td>4.0</td>\n",
       "      <td>NaN</td>\n",
       "      <td>May</td>\n",
       "      <td>None</td>\n",
       "    </tr>\n",
       "  </tbody>\n",
       "</table>\n",
       "</div>"
      ],
      "text/plain": [
       "                                                label_NER  \\\n",
       "124835  O O O O O O B-ADULTS O O B-CHILDREN O O B-DAYS...   \n",
       "150675          O O O O O B-DAYS O O B-ADULTS O O B-MONTH   \n",
       "183662      O O O O O O O B-ADULTS O O B-DAYS O O B-MONTH   \n",
       "48193   O O O O O O O O B-ADULTS O O B-CHILDREN O O B-...   \n",
       "\n",
       "                                                     text  adults  children  \\\n",
       "124835  Could I reserve a room for 8 adults and 5 chil...     8.0       5.0   \n",
       "150675  I need a room for 29 days for 1 adults in Febr...     1.0       NaN   \n",
       "183662  I'd like to book a room for 1 adults for 6 day...     1.0       NaN   \n",
       "48193   Is there any availability for a room for 1 adu...     1.0       4.0   \n",
       "\n",
       "        days     month special_date  \n",
       "124835  20.0      June         None  \n",
       "150675  29.0  February         None  \n",
       "183662   6.0  December         None  \n",
       "48193    NaN       May         None  "
      ]
     },
     "execution_count": 62,
     "metadata": {},
     "output_type": "execute_result"
    }
   ],
   "source": [
    "data.sample(4)"
   ]
  },
  {
   "cell_type": "code",
   "execution_count": 63,
   "id": "68b2a75b",
   "metadata": {
    "tags": []
   },
   "outputs": [],
   "source": [
    "with open('../Data/train_data.pickle','wb') as f:\n",
    "    pickle.dump(data,f)"
   ]
  }
 ],
 "metadata": {
  "kernelspec": {
   "display_name": "Python 3 (ipykernel)",
   "language": "python",
   "name": "python3"
  },
  "language_info": {
   "codemirror_mode": {
    "name": "ipython",
    "version": 3
   },
   "file_extension": ".py",
   "mimetype": "text/x-python",
   "name": "python",
   "nbconvert_exporter": "python",
   "pygments_lexer": "ipython3",
   "version": "3.11.5"
  }
 },
 "nbformat": 4,
 "nbformat_minor": 5
}
